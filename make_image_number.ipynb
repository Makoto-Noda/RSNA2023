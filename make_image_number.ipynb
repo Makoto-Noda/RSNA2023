{
 "cells": [
  {
   "cell_type": "code",
   "execution_count": 1,
   "metadata": {},
   "outputs": [],
   "source": [
    "import os\n",
    "import glob\n",
    "import numpy as np\n",
    "import pandas as pd\n",
    "from tqdm import tqdm"
   ]
  },
  {
   "cell_type": "code",
   "execution_count": 2,
   "metadata": {},
   "outputs": [],
   "source": [
    "IMG_PATH = \"./train_png/\""
   ]
  },
  {
   "cell_type": "code",
   "execution_count": 3,
   "metadata": {},
   "outputs": [
    {
     "name": "stderr",
     "output_type": "stream",
     "text": [
      "100%|██████████| 338519/338519 [31:53<00:00, 176.96it/s]\n"
     ]
    }
   ],
   "source": [
    "img_numbers = pd.DataFrame(columns=['patient_id', 'series_id', 'img_number'])\n",
    "\n",
    "for path in tqdm(sorted(glob.glob(IMG_PATH + \"*.png\"))):\n",
    "\n",
    "    row_list = []\n",
    "    file = path.split('/')[-1]\n",
    "    patient_id = file.split('_')[0]\n",
    "    series_id  = file.split('_')[1]\n",
    "    img_number = (file.split('_')[2]).split('.')[0]\n",
    "    row_list += [patient_id, series_id, img_number]\n",
    "    row = pd.DataFrame(row_list, index=['patient_id', 'series_id', 'img_number']).T\n",
    "    img_numbers = pd.concat([img_numbers, row])\n"
   ]
  },
  {
   "cell_type": "code",
   "execution_count": 19,
   "metadata": {},
   "outputs": [
    {
     "name": "stdout",
     "output_type": "stream",
     "text": [
      "<class 'pandas.core.frame.DataFrame'>\n",
      "Index: 338519 entries, 0 to 0\n",
      "Data columns (total 3 columns):\n",
      " #   Column      Non-Null Count   Dtype\n",
      "---  ------      --------------   -----\n",
      " 0   patient_id  338519 non-null  int64\n",
      " 1   series_id   338519 non-null  int64\n",
      " 2   img_number  338519 non-null  int64\n",
      "dtypes: int64(3)\n",
      "memory usage: 10.3 MB\n"
     ]
    }
   ],
   "source": [
    "img_numbers.info()"
   ]
  },
  {
   "cell_type": "code",
   "execution_count": null,
   "metadata": {},
   "outputs": [],
   "source": [
    "img_level_df = pd.read_csv(\"./rsna2023atd_files/image_level_labels.csv\")\n",
    "img_level_df = img_level_df.drop(\"instance_number\", axis=1)\n",
    "img_level_df = img_level_df.drop_duplicates()\n",
    "\n",
    "img_level_df.head(200)\n"
   ]
  },
  {
   "cell_type": "code",
   "execution_count": 43,
   "metadata": {},
   "outputs": [
    {
     "data": {
      "text/html": [
       "<div>\n",
       "<style scoped>\n",
       "    .dataframe tbody tr th:only-of-type {\n",
       "        vertical-align: middle;\n",
       "    }\n",
       "\n",
       "    .dataframe tbody tr th {\n",
       "        vertical-align: top;\n",
       "    }\n",
       "\n",
       "    .dataframe thead th {\n",
       "        text-align: right;\n",
       "    }\n",
       "</style>\n",
       "<table border=\"1\" class=\"dataframe\">\n",
       "  <thead>\n",
       "    <tr style=\"text-align: right;\">\n",
       "      <th></th>\n",
       "      <th>patient_id</th>\n",
       "      <th>series_id</th>\n",
       "      <th>img_number</th>\n",
       "      <th>injury_name</th>\n",
       "    </tr>\n",
       "  </thead>\n",
       "  <tbody>\n",
       "    <tr>\n",
       "      <th>1</th>\n",
       "      <td>10004</td>\n",
       "      <td>51033</td>\n",
       "      <td>0.0</td>\n",
       "      <td>Active_Extravasation</td>\n",
       "    </tr>\n",
       "    <tr>\n",
       "      <th>2</th>\n",
       "      <td>10004</td>\n",
       "      <td>51033</td>\n",
       "      <td>1.0</td>\n",
       "      <td>Active_Extravasation</td>\n",
       "    </tr>\n",
       "    <tr>\n",
       "      <th>3</th>\n",
       "      <td>10004</td>\n",
       "      <td>51033</td>\n",
       "      <td>10.0</td>\n",
       "      <td>Active_Extravasation</td>\n",
       "    </tr>\n",
       "    <tr>\n",
       "      <th>4</th>\n",
       "      <td>10004</td>\n",
       "      <td>51033</td>\n",
       "      <td>100.0</td>\n",
       "      <td>Active_Extravasation</td>\n",
       "    </tr>\n",
       "    <tr>\n",
       "      <th>5</th>\n",
       "      <td>10004</td>\n",
       "      <td>51033</td>\n",
       "      <td>101.0</td>\n",
       "      <td>Active_Extravasation</td>\n",
       "    </tr>\n",
       "    <tr>\n",
       "      <th>...</th>\n",
       "      <td>...</td>\n",
       "      <td>...</td>\n",
       "      <td>...</td>\n",
       "      <td>...</td>\n",
       "    </tr>\n",
       "    <tr>\n",
       "      <th>26737</th>\n",
       "      <td>9632</td>\n",
       "      <td>3750</td>\n",
       "      <td>9.0</td>\n",
       "      <td>Active_Extravasation</td>\n",
       "    </tr>\n",
       "    <tr>\n",
       "      <th>26738</th>\n",
       "      <td>9632</td>\n",
       "      <td>3750</td>\n",
       "      <td>90.0</td>\n",
       "      <td>Active_Extravasation</td>\n",
       "    </tr>\n",
       "    <tr>\n",
       "      <th>26739</th>\n",
       "      <td>9632</td>\n",
       "      <td>3750</td>\n",
       "      <td>91.0</td>\n",
       "      <td>Active_Extravasation</td>\n",
       "    </tr>\n",
       "    <tr>\n",
       "      <th>26740</th>\n",
       "      <td>9632</td>\n",
       "      <td>3750</td>\n",
       "      <td>92.0</td>\n",
       "      <td>Active_Extravasation</td>\n",
       "    </tr>\n",
       "    <tr>\n",
       "      <th>26741</th>\n",
       "      <td>9632</td>\n",
       "      <td>3750</td>\n",
       "      <td>93.0</td>\n",
       "      <td>Active_Extravasation</td>\n",
       "    </tr>\n",
       "  </tbody>\n",
       "</table>\n",
       "<p>26621 rows × 4 columns</p>\n",
       "</div>"
      ],
      "text/plain": [
       "       patient_id  series_id  img_number           injury_name\n",
       "1           10004      51033         0.0  Active_Extravasation\n",
       "2           10004      51033         1.0  Active_Extravasation\n",
       "3           10004      51033        10.0  Active_Extravasation\n",
       "4           10004      51033       100.0  Active_Extravasation\n",
       "5           10004      51033       101.0  Active_Extravasation\n",
       "...           ...        ...         ...                   ...\n",
       "26737        9632       3750         9.0  Active_Extravasation\n",
       "26738        9632       3750        90.0  Active_Extravasation\n",
       "26739        9632       3750        91.0  Active_Extravasation\n",
       "26740        9632       3750        92.0  Active_Extravasation\n",
       "26741        9632       3750        93.0  Active_Extravasation\n",
       "\n",
       "[26621 rows x 4 columns]"
      ]
     },
     "execution_count": 43,
     "metadata": {},
     "output_type": "execute_result"
    }
   ],
   "source": [
    "p_s_im_ij = img_numbers.merge(img_level_df, on=['patient_id', 'series_id'], how='right')\n",
    "p_s_im_ij\n",
    "pd.set_option('display.max_rows', 500)\n",
    "\n",
    "p_s_im_ij = p_s_im_ij.dropna()\n",
    "p_s_im_ij"
   ]
  },
  {
   "cell_type": "code",
   "execution_count": 47,
   "metadata": {},
   "outputs": [],
   "source": [
    "train_imgnum_df = pd.read_csv(\"./rsna2023atd_files/train.csv\")\n",
    "train_imgnum_df = train_imgnum_df.merge(p_s_im_ij, on=['patient_id'], how='right')"
   ]
  },
  {
   "cell_type": "code",
   "execution_count": null,
   "metadata": {},
   "outputs": [],
   "source": []
  }
 ],
 "metadata": {
  "kernelspec": {
   "display_name": "rsna2023",
   "language": "python",
   "name": "python3"
  },
  "language_info": {
   "codemirror_mode": {
    "name": "ipython",
    "version": 3
   },
   "file_extension": ".py",
   "mimetype": "text/x-python",
   "name": "python",
   "nbconvert_exporter": "python",
   "pygments_lexer": "ipython3",
   "version": "3.10.12"
  },
  "orig_nbformat": 4
 },
 "nbformat": 4,
 "nbformat_minor": 2
}
