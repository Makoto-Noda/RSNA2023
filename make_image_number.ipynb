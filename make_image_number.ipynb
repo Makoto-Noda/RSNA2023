{
 "cells": [
  {
   "cell_type": "code",
   "execution_count": 1,
   "metadata": {},
   "outputs": [],
   "source": [
    "import os\n",
    "import glob\n",
    "import numpy as np\n",
    "import pandas as pd\n",
    "from tqdm import tqdm"
   ]
  },
  {
   "cell_type": "code",
   "execution_count": 2,
   "metadata": {},
   "outputs": [
    {
     "data": {
      "text/plain": [
       "(3147, 15)"
      ]
     },
     "execution_count": 2,
     "metadata": {},
     "output_type": "execute_result"
    }
   ],
   "source": [
    "train_imgnum_df = pd.read_csv(\"./rsna2023atd_files/train.csv\")\n",
    "train_imgnum_df.shape"
   ]
  },
  {
   "cell_type": "code",
   "execution_count": 2,
   "metadata": {},
   "outputs": [],
   "source": [
    "IMG_PATH = \"./train_png/\""
   ]
  },
  {
   "cell_type": "code",
   "execution_count": 3,
   "metadata": {},
   "outputs": [
    {
     "name": "stderr",
     "output_type": "stream",
     "text": [
      "100%|██████████| 487197/487197 [1:20:48<00:00, 100.47it/s]\n"
     ]
    }
   ],
   "source": [
    "img_numbers = pd.DataFrame(columns=['patient_id', 'series_id', 'img_number'])\n",
    "\n",
    "for path in tqdm(sorted(glob.glob(IMG_PATH + \"*.png\"))):\n",
    "\n",
    "    row_list = []\n",
    "    file = path.split('/')[-1]\n",
    "    patient_id = file.split('_')[0]\n",
    "    series_id  = file.split('_')[1]\n",
    "    img_number = (file.split('_')[2]).split('.')[0]\n",
    "    row_list += [patient_id, series_id, img_number]\n",
    "    row = pd.DataFrame(row_list, index=['patient_id', 'series_id', 'img_number']).T\n",
    "    img_numbers = pd.concat([img_numbers, row])\n"
   ]
  },
  {
   "cell_type": "code",
   "execution_count": 40,
   "metadata": {},
   "outputs": [
    {
     "name": "stdout",
     "output_type": "stream",
     "text": [
      "<class 'pandas.core.frame.DataFrame'>\n",
      "Index: 487197 entries, 0 to 0\n",
      "Data columns (total 3 columns):\n",
      " #   Column      Non-Null Count   Dtype\n",
      "---  ------      --------------   -----\n",
      " 0   patient_id  487197 non-null  int64\n",
      " 1   series_id   487197 non-null  int64\n",
      " 2   img_number  487197 non-null  int64\n",
      "dtypes: int64(3)\n",
      "memory usage: 14.9 MB\n"
     ]
    }
   ],
   "source": [
    "pd.set_option('display.max_rows', 500)\n",
    "img_numbers = img_numbers.astype(int)\n"
   ]
  },
  {
   "cell_type": "code",
   "execution_count": 59,
   "metadata": {},
   "outputs": [],
   "source": [
    "img_level_df = pd.read_csv(\"./rsna2023atd_files/image_level_labels.csv\")\n",
    "img_level_df = img_level_df.drop(\"instance_number\", axis=1)\n",
    "img_level_df = img_level_df.drop_duplicates()\n"
   ]
  },
  {
   "cell_type": "code",
   "execution_count": 46,
   "metadata": {},
   "outputs": [
    {
     "data": {
      "text/html": [
       "<div>\n",
       "<style scoped>\n",
       "    .dataframe tbody tr th:only-of-type {\n",
       "        vertical-align: middle;\n",
       "    }\n",
       "\n",
       "    .dataframe tbody tr th {\n",
       "        vertical-align: top;\n",
       "    }\n",
       "\n",
       "    .dataframe thead th {\n",
       "        text-align: right;\n",
       "    }\n",
       "</style>\n",
       "<table border=\"1\" class=\"dataframe\">\n",
       "  <thead>\n",
       "    <tr style=\"text-align: right;\">\n",
       "      <th></th>\n",
       "      <th>patient_id</th>\n",
       "      <th>series_id</th>\n",
       "      <th>img_number</th>\n",
       "      <th>injury_name</th>\n",
       "    </tr>\n",
       "  </thead>\n",
       "  <tbody>\n",
       "  </tbody>\n",
       "</table>\n",
       "</div>"
      ],
      "text/plain": [
       "Empty DataFrame\n",
       "Columns: [patient_id, series_id, img_number, injury_name]\n",
       "Index: []"
      ]
     },
     "execution_count": 46,
     "metadata": {},
     "output_type": "execute_result"
    }
   ],
   "source": [
    "p_s_im_ij = img_numbers.merge(img_level_df, on=['patient_id', 'series_id'], how='left')"
   ]
  },
  {
   "cell_type": "code",
   "execution_count": 61,
   "metadata": {},
   "outputs": [],
   "source": [
    "train_imgnum_df = pd.read_csv(\"./rsna2023atd_files/train.csv\")\n",
    "train_imgnum_df = train_imgnum_df.merge(p_s_im_ij, on=['patient_id'], how='right')\n",
    "train_imgnum_df.to_csv('train_df.csv', index=False)"
   ]
  },
  {
   "cell_type": "code",
   "execution_count": null,
   "metadata": {},
   "outputs": [],
   "source": []
  }
 ],
 "metadata": {
  "kernelspec": {
   "display_name": "rsna2023",
   "language": "python",
   "name": "python3"
  },
  "language_info": {
   "codemirror_mode": {
    "name": "ipython",
    "version": 3
   },
   "file_extension": ".py",
   "mimetype": "text/x-python",
   "name": "python",
   "nbconvert_exporter": "python",
   "pygments_lexer": "ipython3",
   "version": "3.10.12"
  },
  "orig_nbformat": 4
 },
 "nbformat": 4,
 "nbformat_minor": 2
}
