{
 "cells": [
  {
   "cell_type": "code",
   "execution_count": 1,
   "metadata": {},
   "outputs": [
    {
     "name": "stderr",
     "output_type": "stream",
     "text": [
      "/Users/makoto/homebrew/Caskroom/miniforge/base/envs/rsna2023/lib/python3.10/site-packages/tensorflow_addons/utils/tfa_eol_msg.py:23: UserWarning: \n",
      "\n",
      "TensorFlow Addons (TFA) has ended development and introduction of new features.\n",
      "TFA has entered a minimal maintenance and release mode until a planned end of life in May 2024.\n",
      "Please modify downstream libraries to take dependencies from other repositories in our TensorFlow community (e.g. Keras, Keras-CV, and Keras-NLP). \n",
      "\n",
      "For more information see: https://github.com/tensorflow/addons/issues/2807 \n",
      "\n",
      "  warnings.warn(\n"
     ]
    }
   ],
   "source": [
    "import os\n",
    "#os.environ['TF_CPP_MIN_LOG_LEVEL'] = '3'  # to avoid too many logging messages\n",
    "import pandas as pd, numpy as np, random, shutil\n",
    "import tensorflow as tf, re, math\n",
    "import tensorflow.keras.backend as K\n",
    "import sklearn\n",
    "import matplotlib.pyplot as plt\n",
    "import tensorflow_addons as tfa\n",
    "import tensorflow_probability as tfp\n",
    "import wandb\n",
    "import yaml\n",
    "\n",
    "#from IPython import display as ipd\n",
    "from glob import glob\n",
    "from tqdm import tqdm\n",
    "from sklearn.model_selection import KFold, StratifiedKFold, GroupKFold, StratifiedGroupKFold\n",
    "from sklearn.metrics import roc_auc_score\n",
    "from sklearn.utils.class_weight import compute_class_weight"
   ]
  },
  {
   "cell_type": "code",
   "execution_count": 4,
   "metadata": {},
   "outputs": [
    {
     "data": {
      "text/plain": [
       "True"
      ]
     },
     "execution_count": 4,
     "metadata": {},
     "output_type": "execute_result"
    }
   ],
   "source": [
    "os.environ[\"WANDB_NOTEBOOK_NAME\"] = \"RSNA2023ATDEfficientnet\"\n",
    "\n",
    "wandb.login()"
   ]
  },
  {
   "cell_type": "markdown",
   "metadata": {},
   "source": [
    "### Configs"
   ]
  },
  {
   "cell_type": "code",
   "execution_count": 5,
   "metadata": {},
   "outputs": [],
   "source": [
    "class CFG:\n",
    "    wandb         = True\n",
    "\n",
    "    '''\n",
    "    competition   = 'rsna-atd' \n",
    "    _wandb_kernel = 'm-noda'\n",
    "    debug         = False\n",
    "    comment       = 'EfficientNetV1B1-512x512-lr2-vflip'\n",
    "    exp_name      = 'baseline-v5: ds-v3 + multi_head' \n",
    "    '''\n",
    "    \n",
    "    # use verbose=0 for silent, vebose=1 for interactive,\n",
    "    verbose      = 0\n",
    "    display_plot = True\n",
    "\n",
    "    # device\n",
    "    #device = \"TPU-VM\" #or \"GPU\"\n",
    "\n",
    "    model_name = 'EfficientNet'\n",
    "\n",
    "    seed = 123\n",
    "\n",
    "    folds = 5\n",
    "    \n",
    "    # which folds to train\n",
    "    selected_folds = [0, 1]\n",
    "\n",
    "    # size of the image\n",
    "    img_size = [512, 512]\n",
    "\n",
    "    batch_size = 8\n",
    "    epochs = 12\n",
    "\n",
    "    loss      = 'BCE & CCE'\n",
    "    \n",
    "    optimizer = 'Adam'\n",
    "\n",
    "    augment   = True\n",
    "\n",
    "    # scale-shift-rotate-shear\n",
    "    transform = 0.90  # transform prob\n",
    "    fill_mode = 'constant'\n",
    "    rot    = 2.0\n",
    "    shr    = 2.0\n",
    "    hzoom  = 50.0\n",
    "    wzoom  = 50.0\n",
    "    hshift = 10.0\n",
    "    wshift = 10.0\n",
    "\n",
    "    # flip\n",
    "    hflip = True\n",
    "    vflip = True\n",
    "\n",
    "    # clip\n",
    "    clip = False\n",
    "\n",
    "    # lr-scheduler\n",
    "    scheduler   = 'exp' # cosine\n",
    "\n",
    "    # dropout\n",
    "    drop_prob   = 0.6\n",
    "    drop_cnt    = 5\n",
    "    drop_size   = 0.05\n",
    "    \n",
    "    # cut-mix-up\n",
    "    mixup_prob = 0.0\n",
    "    mixup_alpha = 0.5\n",
    "    cutmix_prob = 0.0\n",
    "    cutmix_alpha = 2.5\n",
    "\n",
    "    # pixel-augment\n",
    "    pixel_aug = 0.90  # prob of pixel_aug\n",
    "    sat  = [0.7, 1.3]\n",
    "    cont = [0.8, 1.2]\n",
    "    bri  = 0.15\n",
    "    hue  = 0.05\n",
    "\n",
    "    # test-time augs\n",
    "    tta = 1\n",
    "    \n",
    "    # target column\n",
    "    target_col  = [ \"bowel_injury\", \"extravasation_injury\", \"kidney_healthy\", \"kidney_low\",\n",
    "                   \"kidney_high\", \"liver_healthy\", \"liver_low\", \"liver_high\",\n",
    "                   \"spleen_healthy\", \"spleen_low\", \"spleen_high\"] # not using \"bowel_healthy\" & \"extravasation_healthy\"\n"
   ]
  },
  {
   "cell_type": "markdown",
   "metadata": {},
   "source": [
    "### Seeding for reproducibility"
   ]
  },
  {
   "cell_type": "code",
   "execution_count": 6,
   "metadata": {},
   "outputs": [
    {
     "name": "stdout",
     "output_type": "stream",
     "text": [
      "seeding done!!!\n"
     ]
    }
   ],
   "source": [
    "def seeding(SEED):\n",
    "    np.random.seed(SEED)\n",
    "    random.seed(SEED)\n",
    "    os.environ['PYTHONHASHSEED'] = str(SEED)\n",
    "    tf.random.set_seed(SEED)\n",
    "    print('seeding done!!!')\n",
    "seeding(CFG.seed)"
   ]
  },
  {
   "cell_type": "markdown",
   "metadata": {},
   "source": [
    "### Prepare train data, test data"
   ]
  },
  {
   "cell_type": "code",
   "execution_count": 7,
   "metadata": {},
   "outputs": [],
   "source": [
    "\n",
    "# make dataframes\n",
    "train_df = pd.read_csv(\"./train_df.csv\")\n",
    "train_paths = glob('./train_png/*_*_*.png')\n",
    "train_df['image_path'] = f'./train_png/' + \\\n",
    "                            train_df.patient_id.astype(str) + '_' + \\\n",
    "                            train_df.series_id.astype(str) + '_' + \\\n",
    "                            train_df.img_number.astype(str).str.zfill(3) + '.png'\n",
    "\n",
    "test_paths = glob('./test_png/*_*_*.png')\n",
    "test_df = pd.DataFrame(test_paths, columns=[\"image_path\"])\n",
    "test_df['patient_id'] = test_df.image_path.map(lambda x: x.split('_')[-3].replace('png/','')).astype(int)\n",
    "test_df['series_id'] = test_df.image_path.map(lambda x: x.split('_')[-2]).astype(int)\n",
    "test_df['img_number'] = test_df.image_path.map(lambda x: x.split('_')[-1].replace('.png','')).astype(int)"
   ]
  },
  {
   "cell_type": "code",
   "execution_count": 10,
   "metadata": {},
   "outputs": [
    {
     "data": {
      "text/plain": [
       "(True, True)"
      ]
     },
     "execution_count": 10,
     "metadata": {},
     "output_type": "execute_result"
    }
   ],
   "source": [
    "tf.io.gfile.exists(train_df.image_path.iloc[0]), tf.io.gfile.exists(test_df.image_path.iloc[0])"
   ]
  },
  {
   "cell_type": "markdown",
   "metadata": {},
   "source": [
    "### Data split into train and valid"
   ]
  },
  {
   "cell_type": "code",
   "execution_count": 16,
   "metadata": {},
   "outputs": [
    {
     "data": {
      "text/plain": [
       "fold  patient_id\n",
       "0.0   96            130\n",
       "      318           134\n",
       "      384           110\n",
       "      470           103\n",
       "      496           133\n",
       "                   ... \n",
       "4.0   65289         147\n",
       "      65326         130\n",
       "      65438         251\n",
       "      65450         132\n",
       "      65495         149\n",
       "Length: 3147, dtype: int64"
      ]
     },
     "metadata": {},
     "output_type": "display_data"
    }
   ],
   "source": [
    "train_df['stratify'] = ''\n",
    "\n",
    "for col in CFG.target_col:\n",
    "    train_df['stratify'] += train_df[col].astype(str)\n",
    "\n",
    "train_df = train_df.reset_index(drop=True)\n",
    "\n",
    "skf = StratifiedGroupKFold(n_splits=CFG.folds, shuffle=True, random_state=CFG.seed)\n",
    "\n",
    "for  fold , (train_idx, val_idx) in enumerate(skf.split(train_df, train_df['stratify'], train_df['patient_id'])):\n",
    "    train_df.loc[val_idx, 'fold'] = fold\n",
    "\n",
    "pd.set_option('display.max_rows', 100)\n",
    "display(train_df.groupby(['fold', 'patient_id']).size())"
   ]
  },
  {
   "cell_type": "markdown",
   "metadata": {},
   "source": [
    "### Data Augmentation"
   ]
  },
  {
   "cell_type": "code",
   "execution_count": null,
   "metadata": {},
   "outputs": [],
   "source": [
    "def random_int(shape=[], minval=0, maxval=1):\n",
    "    return tf.random.uniform(shape=shape, minval=minval, maxval=maxval, dtype=tf.int32)\n",
    "\n",
    "def random_float(shape=[], minval=0.0, maxval=1.0):\n",
    "    return tf.random.uniform(shape=shape, minval=minval, maxval=maxval, dtype=tf.float32)\n",
    "\n",
    "def get_matrix(shear, height_zoom, width_zoom, height_shift, width_shift)\n",
    "    \n",
    "    # Degrees to radians\n",
    "    shear = math.pi * shear / 180\n",
    "\n",
    "    def get_3x3_mat(list):\n",
    "        return tf.reshape(tf.concat([list], axis=0), [3, 3])\n",
    "    \n",
    "    one = tf.constant([1], dtype='float32')\n",
    "    zero = tf.constant([0], dtype='float32')"
   ]
  }
 ],
 "metadata": {
  "kernelspec": {
   "display_name": "rsna2023",
   "language": "python",
   "name": "python3"
  },
  "language_info": {
   "codemirror_mode": {
    "name": "ipython",
    "version": 3
   },
   "file_extension": ".py",
   "mimetype": "text/x-python",
   "name": "python",
   "nbconvert_exporter": "python",
   "pygments_lexer": "ipython3",
   "version": "3.10.12"
  },
  "orig_nbformat": 4
 },
 "nbformat": 4,
 "nbformat_minor": 2
}
