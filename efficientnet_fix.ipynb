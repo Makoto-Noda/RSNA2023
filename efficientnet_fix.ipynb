{
 "cells": [
  {
   "cell_type": "code",
   "execution_count": 1,
   "metadata": {},
   "outputs": [
    {
     "name": "stderr",
     "output_type": "stream",
     "text": [
      "/Users/makoto/homebrew/Caskroom/miniforge/base/envs/rsna2023/lib/python3.10/site-packages/tensorflow_addons/utils/tfa_eol_msg.py:23: UserWarning: \n",
      "\n",
      "TensorFlow Addons (TFA) has ended development and introduction of new features.\n",
      "TFA has entered a minimal maintenance and release mode until a planned end of life in May 2024.\n",
      "Please modify downstream libraries to take dependencies from other repositories in our TensorFlow community (e.g. Keras, Keras-CV, and Keras-NLP). \n",
      "\n",
      "For more information see: https://github.com/tensorflow/addons/issues/2807 \n",
      "\n",
      "  warnings.warn(\n"
     ]
    }
   ],
   "source": [
    "import os\n",
    "import pandas as pd\n",
    "import numpy as np\n",
    "import random\n",
    "import shutil\n",
    "import tensorflow as tf\n",
    "import re\n",
    "import math\n",
    "import tensorflow.keras.backend as K\n",
    "import sklearn\n",
    "import matplotlib.pyplot as plt\n",
    "import tensorflow_addons as tfa\n",
    "import tensorflow_probability as tfp\n",
    "import gc\n",
    "from glob import glob\n",
    "from tqdm import tqdm\n",
    "from sklearn.model_selection import StratifiedGroupKFold\n",
    "from keras_cv_attention_models import efficientnet"
   ]
  },
  {
   "cell_type": "markdown",
   "metadata": {},
   "source": [
    "### Configs"
   ]
  },
  {
   "cell_type": "code",
   "execution_count": 2,
   "metadata": {},
   "outputs": [],
   "source": [
    "class CFG:\n",
    "\n",
    "    model_name = 'EfficientNetV2B0'\n",
    "\n",
    "    batch_size = 32\n",
    "    \n",
    "    epochs = 4\n",
    "\n",
    "    folds = 4\n",
    "\n",
    "    seed = 123\n",
    "\n",
    "    img_size = [256, 256]\n",
    "\n",
    "    augment   = True\n",
    "\n",
    "    transform_prob = 0.90\n",
    "    fill_mode = 'constant'\n",
    "    rot    = 2.0\n",
    "    shr    = 4.0\n",
    "    hzoom  = 50.0\n",
    "    wzoom  = 50.0\n",
    "    hshift = 30.0\n",
    "    wshift = 30.0\n",
    "\n",
    "    hflip = True\n",
    "    vflip = True\n",
    "\n",
    "    p_pixel_aug = 0.90\n",
    "    cont = [0.5, 2]\n",
    "    bri  = 0.5\n",
    "\n",
    "    clip = False\n",
    "\n",
    "    drop_prob   = 0.6\n",
    "    drop_cnt    = 10\n",
    "    drop_size   = 0.05\n",
    "\n",
    "    mixup_prob = 0.5\n",
    "    mixup_alpha = 0.2\n",
    "    \n",
    "    cutmix_prob = 0.5\n",
    "    cutmix_alpha = 2.5\n",
    "\n",
    "    target_col  = [ \"bowel_injury\", \"extravasation_injury\", \"kidney_healthy\", \"kidney_low\",\n",
    "                   \"kidney_high\", \"liver_healthy\", \"liver_low\", \"liver_high\",\n",
    "                   \"spleen_healthy\", \"spleen_low\", \"spleen_high\"]"
   ]
  },
  {
   "cell_type": "markdown",
   "metadata": {},
   "source": [
    "### Seeding"
   ]
  },
  {
   "cell_type": "code",
   "execution_count": 3,
   "metadata": {},
   "outputs": [
    {
     "name": "stdout",
     "output_type": "stream",
     "text": [
      "seeding done!!!\n"
     ]
    }
   ],
   "source": [
    "def seeding(SEED):\n",
    "    np.random.seed(SEED)\n",
    "    random.seed(SEED)\n",
    "    os.environ['PYTHONHASHSEED'] = str(SEED)\n",
    "    tf.random.set_seed(SEED)\n",
    "    print('seeding done!!!')\n",
    "\n",
    "seeding(CFG.seed)"
   ]
  },
  {
   "cell_type": "markdown",
   "metadata": {},
   "source": [
    "### Prepare Dataframe"
   ]
  },
  {
   "cell_type": "code",
   "execution_count": 4,
   "metadata": {},
   "outputs": [],
   "source": [
    "df = pd.read_csv('./Dataset/train.csv')\n",
    "\n",
    "test_df = pd.read_csv('./Dataset/test.csv')\n",
    "test_df['image_path'] = (f'./Dataset/test_images/'\n",
    "                          + test_df.patient_id.astype(str)+ '/' \n",
    "                          + test_df.series_id.astype(str) + '/' \n",
    "                          + test_df.instance_number.astype(str) \n",
    "                          + '.png')"
   ]
  },
  {
   "cell_type": "markdown",
   "metadata": {},
   "source": [
    "### Asign Fold numbers"
   ]
  },
  {
   "cell_type": "code",
   "execution_count": 5,
   "metadata": {},
   "outputs": [
    {
     "name": "stderr",
     "output_type": "stream",
     "text": [
      "/Users/makoto/homebrew/Caskroom/miniforge/base/envs/rsna2023/lib/python3.10/site-packages/sklearn/model_selection/_split.py:950: UserWarning: The least populated class in y has only 1 members, which is less than n_splits=4.\n",
      "  warnings.warn(\n"
     ]
    },
    {
     "data": {
      "text/plain": [
       "fold  patient_id\n",
       "0.0   4353           43\n",
       "      5649           10\n",
       "      6962            4\n",
       "      7026           26\n",
       "      7482           77\n",
       "                   ... \n",
       "3.0   56981          68\n",
       "      58324           9\n",
       "      60993          29\n",
       "      63113         362\n",
       "      65456          16\n",
       "Length: 246, dtype: int64"
      ]
     },
     "metadata": {},
     "output_type": "display_data"
    }
   ],
   "source": [
    "df['stratify'] = ''\n",
    "\n",
    "for col in CFG.target_col:\n",
    "    df['stratify'] += df[col].astype(str)\n",
    "\n",
    "df = df.reset_index(drop=True)\n",
    "\n",
    "sgkf = StratifiedGroupKFold(n_splits=CFG.folds, shuffle=True, random_state=CFG.seed)\n",
    "\n",
    "for  fold , (train_idx, val_idx) in enumerate(sgkf.split(df, df['stratify'], df['patient_id'])):\n",
    "    df.loc[val_idx, 'fold'] = fold\n",
    "\n",
    "display(df.groupby(['fold', 'patient_id']).size())"
   ]
  },
  {
   "cell_type": "markdown",
   "metadata": {},
   "source": [
    "### Data Augmentation"
   ]
  },
  {
   "cell_type": "code",
   "execution_count": 6,
   "metadata": {},
   "outputs": [],
   "source": [
    "def random_int(shape=[], minval=0, maxval=1):\n",
    "    return tf.random.uniform(shape=shape, minval=minval, maxval=maxval, dtype=tf.int32)\n",
    "\n",
    "\n",
    "\n",
    "def random_float(shape=[], minval=0.0, maxval=1.0):\n",
    "    return tf.random.uniform(shape=shape, minval=minval, maxval=maxval, dtype=tf.float32)\n",
    "\n",
    "\n",
    "\n",
    "# make affine transformation matrix\n",
    "# https://cs.kwansei.ac.jp/prog1/affine.html\n",
    "def get_matrix(shear, height_zoom, width_zoom, height_shift, width_shift):\n",
    "\n",
    "    # degrees to radians\n",
    "    shear = math.pi * shear / 180.\n",
    "\n",
    "\n",
    "    def get_3x3_mat(list):\n",
    "        return tf.reshape(tf.concat([list], axis=0), [3, 3])\n",
    "    \n",
    "\n",
    "    one = tf.constant([1], dtype='float32')\n",
    "    zero = tf.constant([0], dtype='float32')\n",
    "\n",
    "    # for shear matrix\n",
    "    cos = tf.math.cos(shear)\n",
    "    sin = tf.math.sin(shear)\n",
    "\n",
    "    shear_matrix = get_3x3_mat([one,  sin,  zero,\n",
    "                                zero, cos,  zero,\n",
    "                                zero, zero, one])\n",
    "    \n",
    "    zoom_matrix = get_3x3_mat([one/height_zoom, zero,           zero,\n",
    "                               zero,            one/width_zoom, zero,\n",
    "                               zero,            zero,           one])\n",
    "    \n",
    "    shift_matrix = get_3x3_mat([one,  zero, height_shift, \n",
    "                                zero, one,  width_shift, \n",
    "                                zero, zero, one])\n",
    "    \n",
    "    #　return composite transformation\n",
    "    return K.dot(shear_matrix, K.dot(zoom_matrix, shift_matrix))\n",
    "\n",
    "\n",
    "\n",
    "# apply affine transformation\n",
    "def transform(image, DIM=CFG.img_size):\n",
    "\n",
    "    # add padding to align image sizes\n",
    "    if DIM[0]>DIM[1]:\n",
    "        diff  = (DIM[0]-DIM[1])\n",
    "        pad   = [diff//2, diff//2 + diff%2]\n",
    "        image = tf.pad(image, [[0, 0], [pad[0], pad[1]],[0, 0]])\n",
    "        NEW_DIM = DIM[0]\n",
    "\n",
    "    elif DIM[0]<DIM[1]:\n",
    "        diff  = (DIM[1]-DIM[0])\n",
    "        pad   = [diff//2, diff//2 + diff%2]\n",
    "        image = tf.pad(image, [[pad[0], pad[1]], [0, 0],[0, 0]])\n",
    "        NEW_DIM = DIM[1]\n",
    "    \n",
    "    rotation     = CFG.rot * tf.random.normal([1], dtype='float32')\n",
    "    shear        = CFG.shr * tf.random.normal([1], dtype='float32')\n",
    "    height_zoom  = 1.0 + tf.random.normal([1], dtype='float32') / CFG.hzoom\n",
    "    width_zoom   = 1.0 + tf.random.normal([1], dtype='float32') / CFG.wzoom\n",
    "    height_shift = CFG.hshift * tf.random.normal([1], dtype='float32') \n",
    "    width_shift  = CFG.wshift * tf.random.normal([1], dtype='float32')\n",
    "\n",
    "    # inverse of get_matrix\n",
    "    # https://daeudaeu.com/reverse-matorix/\n",
    "    transformation_matrix     =tf.linalg.inv(get_matrix(shear, height_zoom, width_zoom, height_shift, width_shift))\n",
    "    transformation_matrix_flat=tfa.image.transform_ops.matrices_to_flat_transforms(transformation_matrix)\n",
    "\n",
    "    # apply affine transformation to image\n",
    "    image=tfa.image.transform(image, transformation_matrix_flat, fill_mode=CFG.fill_mode)\n",
    "\n",
    "    # rotate image\n",
    "    image=tfa.image.rotate(image, -rotation, fill_mode=CFG.fill_mode)\n",
    "\n",
    "    # remove padding\n",
    "    if DIM[0]>DIM[1]:\n",
    "        image=tf.reshape(image, [NEW_DIM, NEW_DIM,3])\n",
    "        image = image[:, pad[0]:-pad[1],:]\n",
    "    elif DIM[1]>DIM[0]:\n",
    "        image=tf.reshape(image, [NEW_DIM, NEW_DIM,3])\n",
    "        image = image[pad[0]:-pad[1],:,:]\n",
    "\n",
    "    # align image sizes\n",
    "    image = tf.reshape(image, [*DIM, 3])  \n",
    "\n",
    "    return image\n",
    "\n",
    "\n",
    "\n",
    "# apply dropout to image\n",
    "def dropout(image,DIM=CFG.img_size, PROBABILITY = 0.6, cutout = 5, size = 0.1):\n",
    "\n",
    "    # boolean to int\n",
    "    P = tf.cast( tf.random.uniform([],0,1)<PROBABILITY, tf.int32)\n",
    "\n",
    "    if (P==0) or (cutout==0) or (size==0):\n",
    "        return image\n",
    "    \n",
    "    for c in range(cutout):\n",
    "\n",
    "        # choose random coordinates\n",
    "        x = tf.cast( tf.random.uniform([],0,DIM[1]),tf.int32)\n",
    "        y = tf.cast( tf.random.uniform([],0,DIM[0]),tf.int32)\n",
    "\n",
    "        # determine cutout square\n",
    "        width = tf.cast(size*min(DIM),tf.int32) * P\n",
    "        ya = tf.math.maximum(0,y-width//2)\n",
    "        yb = tf.math.minimum(DIM[0],y+width//2)\n",
    "        xa = tf.math.maximum(0,x-width//2)\n",
    "        xb = tf.math.minimum(DIM[1],x+width//2)\n",
    "\n",
    "        # image after cutout\n",
    "        one = image[ya:yb,0:xa,:]\n",
    "        two = tf.zeros([yb-ya,xb-xa,3], dtype = image.dtype) # cutouted square\n",
    "        three = image[ya:yb,xb:DIM[1],:]\n",
    "        middle = tf.concat([one,two,three],axis=1)\n",
    "        image = tf.concat([image[0:ya,:,:],middle,image[yb:DIM[0],:,:]],axis=0)\n",
    "        image = tf.reshape(image,[*DIM,3])\n",
    "\n",
    "    return image\n",
    "\n",
    "\n",
    "\n",
    "# apply mixup amd cutmix to image\n",
    "# https://cvml-expertguide.net/terms/dl/regularization/data-augmentation/\n",
    "# mixup\n",
    "def get_mixup(alpha, prob):\n",
    "    \n",
    "    \n",
    "    # https://qiita.com/AseiSugiyama/items/66a75610c569a23ac493\n",
    "    @tf.function\n",
    "    def mixup(images, labels, alpha=alpha, prob=prob):\n",
    "\n",
    "        if random_float() > prob:\n",
    "            return images, labels\n",
    "        \n",
    "        image_shape = tf.shape(images)\n",
    "        label_shape = tf.shape(labels) # label shape has (20,1) and (20,3) mixed in it so can't get the shape\n",
    "\n",
    "        beta = tfp.distributions.Beta(alpha, alpha)\n",
    "        lamb = beta.sample(1)[0]\n",
    "\n",
    "        images = lamb * images + (1.0 - lamb) * tf.roll(images, shift=1, axis=0)\n",
    "        labels = lamb * labels + (1.0 - lamb) * tf.roll(labels, shift=1, axis=0)\n",
    "\n",
    "        images = tf.reshape(images, image_shape)\n",
    "        labels = tf.reshape(labels, label_shape)\n",
    "\n",
    "        return images, labels\n",
    "    \n",
    "    return mixup\n",
    "\n",
    "\n",
    "\n",
    "# cutmix\n",
    "def get_cutmix(alpha, prob):\n",
    "\n",
    "\n",
    "    @tf.function\n",
    "    def cutmix(images, labels, alpha=alpha, prob=prob):\n",
    "\n",
    "        if random_float() > prob:\n",
    "            return images, labels\n",
    "        \n",
    "        image_shape = tf.shape(images)\n",
    "        label_shape = tf.shape(labels) # label shape has (20,1) and (20,3) mixed in it so can't get the shape\n",
    "\n",
    "        width = tf.cast(image_shape[2], tf.int32)\n",
    "        height = tf.cast(image_shape[1], tf.int32)\n",
    "\n",
    "        beta = tfp.distributions.Beta(alpha, alpha)\n",
    "        lamb = beta.sample(1)[0]\n",
    "\n",
    "        r_x = random_int([], minval=0, maxval=width)\n",
    "        r_y = random_int([], minval=0, maxval=height)\n",
    "        r = 0.5 * tf.math.sqrt(1.0 - lamb)\n",
    "        r_w_half = tf.cast(r * tf.cast(width, tf.float32), tf.int32)\n",
    "        r_h_half = tf.cast(r * tf.cast(height, tf.float32), tf.int32)\n",
    "\n",
    "        x1 = tf.cast(tf.clip_by_value(r_x - r_w_half, 0, width), tf.int32)\n",
    "        x2 = tf.cast(tf.clip_by_value(r_x + r_w_half, 0, width), tf.int32)\n",
    "        y1 = tf.cast(tf.clip_by_value(r_y - r_h_half, 0, height), tf.int32)\n",
    "        y2 = tf.cast(tf.clip_by_value(r_y + r_h_half, 0, height), tf.int32)\n",
    "\n",
    "        # outer-pad patch -> [0, 0, 1, 1, 0, 0]\n",
    "        patch1 = images[:, y1:y2, x1:x2, :]  # [batch, height, width, channel]\n",
    "        patch1 = tf.pad(patch1, [[0, 0], [y1, height - y2], [x1, width - x2], [0, 0]])  # outer-pad\n",
    "\n",
    "        # inner-pad patch -> [1, 1, 0, 0, 1, 1]\n",
    "        patch2 = tf.roll(images, shift=1, axis=0)[:, y1:y2, x1:x2, :]\n",
    "        patch2 = tf.pad(patch2, [[0, 0], [y1, height - y2], [x1, width - x2], [0, 0]])\n",
    "        patch2 = tf.roll(images, shift=1, axis=0) - patch2  # inner-pad = img - outer-pad\n",
    "\n",
    "        images = patch1 + patch2  # cutmix img\n",
    "\n",
    "        lambda2 = tf.cast((1.0 - (x2 - x1) * (y2 - y1) / (width * height)), tf.float32)\n",
    "        labels = lambda2 * labels + (1.0 - lambda2) * tf.roll(labels, shift=1, axis=0)\n",
    "\n",
    "        images = tf.reshape(images, image_shape)\n",
    "        labels = tf.reshape(labels, label_shape)\n",
    "\n",
    "        return images, labels\n",
    "\n",
    "    return cutmix"
   ]
  },
  {
   "cell_type": "markdown",
   "metadata": {},
   "source": [
    "### Data pipeline\n",
    "1. Reads the PNG file and then decode it to tf.tensor\n",
    "2. Resizes the image\n",
    "3. Changes the datatype to float32\n",
    "4. Cache the data for boosting up the speed\n",
    "5. Apply augmentations \n",
    "6. Split the data into baches"
   ]
  },
  {
   "cell_type": "code",
   "execution_count": 7,
   "metadata": {},
   "outputs": [],
   "source": [
    "def build_decoder(with_labels=True, target_size=CFG.img_size):\n",
    "\n",
    "\n",
    "    def decode_image(path):\n",
    "\n",
    "        file_binary = tf.io.read_file(path)\n",
    "        image = tf.image.decode_png(file_binary, channels=3, dtype=tf.uint8)\n",
    "        image = tf.image.resize(image, CFG.img_size, method='bilinear')\n",
    "        image = tf.cast(image, tf.float32) / 255.0\n",
    "        image = tf.reshape(image, [*CFG.img_size, 3])\n",
    "\n",
    "        return image\n",
    "    \n",
    "\n",
    "    def decode_label(label):\n",
    "        \n",
    "        label = tf.cast(label, tf.float32)\n",
    "        \n",
    "        return (label[0:1], label[1:2], label[2:5], label[5:8], label[8:11])\n",
    "    \n",
    "    def decode_with_labels(path, label):\n",
    "\n",
    "        return decode_image(path), decode_label(label)\n",
    "\n",
    "    return decode_with_labels if with_labels else decode_image\n",
    "    \n",
    "\n",
    "\n",
    "def build_augmenter(with_labels=True, dim=CFG.img_size):\n",
    "\n",
    "    def augment(image, DIM=dim):\n",
    "\n",
    "        if random_float() < CFG.transform_prob:\n",
    "            image = transform(image, DIM=DIM)\n",
    "\n",
    "        image = tf.image.random_flip_left_right(image) if CFG.hflip else image\n",
    "        image = tf.image.random_flip_up_down(image) if CFG.vflip else image\n",
    "\n",
    "        if random_float() < CFG.p_pixel_aug:\n",
    "            image = tf.image.random_contrast(image, CFG.cont[0], CFG.cont[1])\n",
    "            image = tf.image.random_brightness(image, CFG.bri)\n",
    "        \n",
    "        image = tf.clip_by_value(image, 0, 1)  if CFG.clip else image     \n",
    "        image = tf.reshape(image, [*DIM, 3])\n",
    "\n",
    "        return image\n",
    "\n",
    "    def augment_with_labels(image, label):\n",
    "\n",
    "        return augment(image), label\n",
    "    \n",
    "    return augment_with_labels if with_labels else augment\n",
    "\n",
    "\n",
    "\n",
    "# https://qiita.com/Suguru_Toyohara/items/820b0dad955ecd91c7f3\n",
    "def build_dataset(paths, labels=None, batch_size=CFG.batch_size, cache=True,\n",
    "                  decode_fn=None, augment_fn=None,\n",
    "                  augment=True, repeat=False, shuffle=1024, \n",
    "                  cache_dir=\"\", drop_remainder=False):\n",
    "    \n",
    "    if cache_dir != \"\" and cache is True:\n",
    "        os.makedirs(cache_dir, exist_ok=True)\n",
    "\n",
    "    if decode_fn is None:\n",
    "        decode_fn = build_decoder(labels is not None)\n",
    "    \n",
    "    if augment_fn is None:\n",
    "        augment_fn = build_augmenter(labels is not None)\n",
    "\n",
    "    # https://tensorflow.classcat.com/2019/03/23/tf20-alpha-guide-data-performance/\n",
    "    AUTO = tf.data.experimental.AUTOTUNE\n",
    "\n",
    "    slices = paths if labels is None else (paths, labels)\n",
    "\n",
    "    ds = tf.data.Dataset.from_tensor_slices(slices)\n",
    "    ds = ds.map(decode_fn, num_parallel_calls=AUTO)\n",
    "    ds = ds.cache(cache_dir) if cache else ds\n",
    "    ds = ds.repeat() if repeat else ds\n",
    "\n",
    "    if shuffle: \n",
    "        ds = ds.shuffle(shuffle, seed=CFG.seed)\n",
    "        opt = tf.data.Options()\n",
    "        opt.experimental_deterministic = False\n",
    "        ds = ds.with_options(opt)\n",
    "\n",
    "    ds = ds.map(augment_fn, num_parallel_calls=AUTO) if augment else ds\n",
    "\n",
    "    if augment and labels is not None:\n",
    "        ds = ds.map(lambda image, label: (dropout(image,\n",
    "                                                  DIM=CFG.img_size, \n",
    "                                                  PROBABILITY=CFG.drop_prob, \n",
    "                                                  cutout=CFG.drop_cnt,\n",
    "                                                  size=CFG.drop_size), label),num_parallel_calls=AUTO)\n",
    "\n",
    "    ds = ds.batch(batch_size, drop_remainder=drop_remainder)\n",
    "\n",
    "    \n",
    "    #if augment and labels is not None:\n",
    "    #    if CFG.cutmix_prob:\n",
    "    #        ds = ds.map(get_cutmix(alpha=CFG.cutmix_alpha,prob=CFG.cutmix_prob),num_parallel_calls=AUTO)\n",
    "    #    if CFG.mixup_prob:\n",
    "    #        ds = ds.map(get_mixup(alpha=CFG.mixup_alpha,prob=CFG.mixup_prob),num_parallel_calls=AUTO)\n",
    "    \n",
    "\n",
    "    ds = ds.prefetch(AUTO)\n",
    "\n",
    "    return ds"
   ]
  },
  {
   "cell_type": "markdown",
   "metadata": {},
   "source": [
    "### Build Model"
   ]
  },
  {
   "cell_type": "code",
   "execution_count": 8,
   "metadata": {},
   "outputs": [],
   "source": [
    "def build_model(model_name=CFG.model_name, dim=CFG.img_size):\n",
    "\n",
    "\n",
    "        # backbone\n",
    "        base = getattr(efficientnet, model_name)(input_shape=(*dim,3), pretrained='imagenet', num_classes=0)\n",
    "\n",
    "        inp = base.inputs\n",
    "\n",
    "        x = base.output\n",
    "        x = tf.keras.layers.GlobalAveragePooling2D()(x)\n",
    "\n",
    "        # necks\n",
    "        x_bowel = tf.keras.layers.Dense(32, activation='silu')(x)\n",
    "        x_extra = tf.keras.layers.Dense(32, activation='silu')(x)\n",
    "        x_liver = tf.keras.layers.Dense(32, activation='silu')(x)\n",
    "        x_kidney = tf.keras.layers.Dense(32, activation='silu')(x)\n",
    "        x_spleen = tf.keras.layers.Dense(32, activation='silu')(x)\n",
    "\n",
    "        # heads\n",
    "        out_bowel = tf.keras.layers.Dense(1, name='bowel', activation='sigmoid')(x_bowel)\n",
    "        out_extra = tf.keras.layers.Dense(1, name='extra', activation='sigmoid')(x_extra)\n",
    "        out_liver = tf.keras.layers.Dense(3, name='liver', activation='softmax')(x_liver)\n",
    "        out_kidney = tf.keras.layers.Dense(3, name='kidney', activation='softmax')(x_kidney)\n",
    "        out_spleen = tf.keras.layers.Dense(3, name='spleen', activation='softmax')(x_spleen)\n",
    "\n",
    "        out = [out_bowel, out_extra, out_liver, out_kidney, out_spleen]\n",
    "\n",
    "        model = tf.keras.Model(inputs=inp, outputs=out)\n",
    "\n",
    "        optimizer = tf.keras.optimizers.legacy.Adam(learning_rate=0.0001)\n",
    "\n",
    "        loss = {'bowel':tf.keras.losses.BinaryCrossentropy(),\n",
    "                'extra':tf.keras.losses.BinaryCrossentropy(),\n",
    "                'liver':tf.keras.losses.CategoricalCrossentropy(),\n",
    "                'kidney':tf.keras.losses.CategoricalCrossentropy(),\n",
    "                'spleen':tf.keras.losses.CategoricalCrossentropy()}\n",
    "\n",
    "        metrics = {'bowel':'accuracy',\n",
    "                   'extra':'accuracy',\n",
    "                   'liver':'accuracy',\n",
    "                   'kidney':'accuracy',\n",
    "                   'spleen':'accuracy'}\n",
    "\n",
    "        model.compile(optimizer=optimizer, loss=loss, metrics=metrics)\n",
    "\n",
    "        return model\n"
   ]
  },
  {
   "cell_type": "markdown",
   "metadata": {},
   "source": [
    "### Learning rate scheduler"
   ]
  },
  {
   "cell_type": "code",
   "execution_count": 9,
   "metadata": {},
   "outputs": [
    {
     "data": {
      "image/png": "[encoded data removed]",
      "text/plain": [
       "<Figure size 1000x500 with 1 Axes>"
      ]
     },
     "metadata": {},
     "output_type": "display_data"
    },
    {
     "data": {
      "text/plain": [
       "<keras.src.callbacks.LearningRateScheduler at 0x107e0d6c0>"
      ]
     },
     "execution_count": 9,
     "metadata": {},
     "output_type": "execute_result"
    }
   ],
   "source": [
    "# the optimal lr is 10^-5 ish\n",
    "def get_lr_callback(batch_size=8, plot=False):\n",
    "\n",
    "    lr_min     = 0.000001\n",
    "   \n",
    "    def lrfn(epoch):\n",
    "\n",
    "        lr = lr_min * (10 ** epoch)\n",
    "\n",
    "        return lr\n",
    "    if plot:\n",
    "        plt.figure(figsize=(10,5))\n",
    "        plt.plot(np.arange(CFG.epochs), [lrfn(epoch) for epoch in np.arange(CFG.epochs)], marker='o')\n",
    "        plt.yscale('log')\n",
    "        plt.xlabel('epoch'); plt.ylabel('learnig rate')\n",
    "        plt.title('Learning Rate Scheduler')\n",
    "        plt.show()\n",
    "\n",
    "    lr_callback = tf.keras.callbacks.LearningRateScheduler(lrfn, verbose=False)\n",
    "    return lr_callback\n",
    "\n",
    "get_lr_callback(CFG.batch_size, plot=True )"
   ]
  },
  {
   "cell_type": "markdown",
   "metadata": {},
   "source": [
    "### Train model"
   ]
  },
  {
   "cell_type": "code",
   "execution_count": 10,
   "metadata": {},
   "outputs": [
    {
     "name": "stdout",
     "output_type": "stream",
     "text": [
      ">>>> Load pretrained from: /Users/makoto/.keras/models/efficientnetv2-b0-imagenet.h5\n",
      "Epoch 1/3\n",
      "299/299 [==============================] - ETA: 0s - loss: 4.5894 - bowel_loss: 0.7065 - extra_loss: 0.6654 - liver_loss: 1.0180 - kidney_loss: 1.1318 - spleen_loss: 1.0677 - bowel_accuracy: 0.4925 - extra_accuracy: 0.6279 - liver_accuracy: 0.5236 - kidney_accuracy: 0.2828 - spleen_accuracy: 0.4383\n",
      "Epoch 1: val_loss improved from inf to 4.57731, saving model to fold-0.h5\n"
     ]
    },
    {
     "name": "stderr",
     "output_type": "stream",
     "text": [
      "/Users/makoto/homebrew/Caskroom/miniforge/base/envs/rsna2023/lib/python3.10/site-packages/keras/src/engine/training.py:3000: UserWarning: You are saving your model as an HDF5 file via `model.save()`. This file format is considered legacy. We recommend using instead the native Keras format, e.g. `model.save('my_model.keras')`.\n",
      "  saving_api.save_model(\n"
     ]
    },
    {
     "name": "stdout",
     "output_type": "stream",
     "text": [
      "299/299 [==============================] - 326s 906ms/step - loss: 4.5894 - bowel_loss: 0.7065 - extra_loss: 0.6654 - liver_loss: 1.0180 - kidney_loss: 1.1318 - spleen_loss: 1.0677 - bowel_accuracy: 0.4925 - extra_accuracy: 0.6279 - liver_accuracy: 0.5236 - kidney_accuracy: 0.2828 - spleen_accuracy: 0.4383 - val_loss: 4.5773 - val_bowel_loss: 0.7123 - val_extra_loss: 0.6848 - val_liver_loss: 1.0408 - val_kidney_loss: 1.1042 - val_spleen_loss: 1.0352 - val_bowel_accuracy: 0.4870 - val_extra_accuracy: 0.5620 - val_liver_accuracy: 0.4936 - val_kidney_accuracy: 0.3365 - val_spleen_accuracy: 0.5157 - lr: 1.0000e-07\n",
      "Epoch 2/3\n",
      "299/299 [==============================] - ETA: 0s - loss: 4.4660 - bowel_loss: 0.7022 - extra_loss: 0.6549 - liver_loss: 0.9667 - kidney_loss: 1.0919 - spleen_loss: 1.0504 - bowel_accuracy: 0.5036 - extra_accuracy: 0.6646 - liver_accuracy: 0.6403 - kidney_accuracy: 0.3510 - spleen_accuracy: 0.4748\n",
      "Epoch 2: val_loss improved from 4.57731 to 4.39965, saving model to fold-0.h5\n",
      "299/299 [==============================] - 202s 673ms/step - loss: 4.4660 - bowel_loss: 0.7022 - extra_loss: 0.6549 - liver_loss: 0.9667 - kidney_loss: 1.0919 - spleen_loss: 1.0504 - bowel_accuracy: 0.5036 - extra_accuracy: 0.6646 - liver_accuracy: 0.6403 - kidney_accuracy: 0.3510 - spleen_accuracy: 0.4748 - val_loss: 4.3996 - val_bowel_loss: 0.7070 - val_extra_loss: 0.6766 - val_liver_loss: 0.9773 - val_kidney_loss: 1.0431 - val_spleen_loss: 0.9957 - val_bowel_accuracy: 0.4980 - val_extra_accuracy: 0.5910 - val_liver_accuracy: 0.6397 - val_kidney_accuracy: 0.4661 - val_spleen_accuracy: 0.6032 - lr: 1.0000e-06\n",
      "Epoch 3/3\n",
      "299/299 [==============================] - ETA: 0s - loss: 3.4429 - bowel_loss: 0.6658 - extra_loss: 0.5675 - liver_loss: 0.5572 - kidney_loss: 0.7626 - spleen_loss: 0.8897 - bowel_accuracy: 0.5952 - extra_accuracy: 0.7439 - liver_accuracy: 0.8945 - kidney_accuracy: 0.7525 - spleen_accuracy: 0.6247\n",
      "Epoch 3: val_loss improved from 4.39965 to 3.35942, saving model to fold-0.h5\n",
      "299/299 [==============================] - 211s 705ms/step - loss: 3.4429 - bowel_loss: 0.6658 - extra_loss: 0.5675 - liver_loss: 0.5572 - kidney_loss: 0.7626 - spleen_loss: 0.8897 - bowel_accuracy: 0.5952 - extra_accuracy: 0.7439 - liver_accuracy: 0.8945 - kidney_accuracy: 0.7525 - spleen_accuracy: 0.6247 - val_loss: 3.3594 - val_bowel_loss: 0.6717 - val_extra_loss: 0.6671 - val_liver_loss: 0.7413 - val_kidney_loss: 0.5833 - val_spleen_loss: 0.6961 - val_bowel_accuracy: 0.5751 - val_extra_accuracy: 0.6336 - val_liver_accuracy: 0.7870 - val_kidney_accuracy: 0.8246 - val_spleen_accuracy: 0.7728 - lr: 1.0000e-05\n",
      "FOLD 0 RESULTS\n",
      "BEST Loss  : 3.359\n",
      "BEST Acc   : 0.719\n",
      "BEST Epoch : 2\n",
      "Bowel : 0.575\n",
      "Extravasation : 0.634\n",
      "Liver: 0.787\n",
      "Kidney: 0.825\n",
      "Spleen: 0.773\n",
      "\n",
      ">>>> Load pretrained from: /Users/makoto/.keras/models/efficientnetv2-b0-imagenet.h5\n",
      "Epoch 1/3\n",
      "336/336 [==============================] - ETA: 0s - loss: 4.7154 - bowel_loss: 0.6932 - extra_loss: 0.6866 - liver_loss: 1.1135 - kidney_loss: 1.1395 - spleen_loss: 1.0825 - bowel_accuracy: 0.5208 - extra_accuracy: 0.5458 - liver_accuracy: 0.3570 - kidney_accuracy: 0.2981 - spleen_accuracy: 0.4152\n",
      "Epoch 1: val_loss improved from inf to 4.79507, saving model to fold-1.h5\n"
     ]
    },
    {
     "name": "stderr",
     "output_type": "stream",
     "text": [
      "/Users/makoto/homebrew/Caskroom/miniforge/base/envs/rsna2023/lib/python3.10/site-packages/keras/src/engine/training.py:3000: UserWarning: You are saving your model as an HDF5 file via `model.save()`. This file format is considered legacy. We recommend using instead the native Keras format, e.g. `model.save('my_model.keras')`.\n",
      "  saving_api.save_model(\n"
     ]
    },
    {
     "name": "stdout",
     "output_type": "stream",
     "text": [
      "336/336 [==============================] - 363s 888ms/step - loss: 4.7154 - bowel_loss: 0.6932 - extra_loss: 0.6866 - liver_loss: 1.1135 - kidney_loss: 1.1395 - spleen_loss: 1.0825 - bowel_accuracy: 0.5208 - extra_accuracy: 0.5458 - liver_accuracy: 0.3570 - kidney_accuracy: 0.2981 - spleen_accuracy: 0.4152 - val_loss: 4.7951 - val_bowel_loss: 0.6988 - val_extra_loss: 0.6981 - val_liver_loss: 1.1181 - val_kidney_loss: 1.1748 - val_spleen_loss: 1.1053 - val_bowel_accuracy: 0.5096 - val_extra_accuracy: 0.5017 - val_liver_accuracy: 0.3304 - val_kidney_accuracy: 0.2350 - val_spleen_accuracy: 0.3575 - lr: 1.0000e-07\n",
      "Epoch 2/3\n",
      "336/336 [==============================] - ETA: 0s - loss: 4.5592 - bowel_loss: 0.6898 - extra_loss: 0.6730 - liver_loss: 1.0541 - kidney_loss: 1.0873 - spleen_loss: 1.0550 - bowel_accuracy: 0.5286 - extra_accuracy: 0.5985 - liver_accuracy: 0.4941 - kidney_accuracy: 0.3989 - spleen_accuracy: 0.4773\n",
      "Epoch 2: val_loss improved from 4.79507 to 4.53124, saving model to fold-1.h5\n",
      "336/336 [==============================] - 240s 711ms/step - loss: 4.5592 - bowel_loss: 0.6898 - extra_loss: 0.6730 - liver_loss: 1.0541 - kidney_loss: 1.0873 - spleen_loss: 1.0550 - bowel_accuracy: 0.5286 - extra_accuracy: 0.5985 - liver_accuracy: 0.4941 - kidney_accuracy: 0.3989 - spleen_accuracy: 0.4773 - val_loss: 4.5312 - val_bowel_loss: 0.6942 - val_extra_loss: 0.6896 - val_liver_loss: 1.0033 - val_kidney_loss: 1.0936 - val_spleen_loss: 1.0506 - val_bowel_accuracy: 0.5096 - val_extra_accuracy: 0.5554 - val_liver_accuracy: 0.6125 - val_kidney_accuracy: 0.3836 - val_spleen_accuracy: 0.5205 - lr: 1.0000e-06\n",
      "Epoch 3/3\n",
      "336/336 [==============================] - ETA: 0s - loss: 3.5036 - bowel_loss: 0.6659 - extra_loss: 0.5769 - liver_loss: 0.6639 - kidney_loss: 0.7394 - spleen_loss: 0.8576 - bowel_accuracy: 0.6005 - extra_accuracy: 0.7275 - liver_accuracy: 0.8497 - kidney_accuracy: 0.7517 - spleen_accuracy: 0.6434\n",
      "Epoch 3: val_loss improved from 4.53124 to 3.31943, saving model to fold-1.h5\n",
      "336/336 [==============================] - 251s 745ms/step - loss: 3.5036 - bowel_loss: 0.6659 - extra_loss: 0.5769 - liver_loss: 0.6639 - kidney_loss: 0.7394 - spleen_loss: 0.8576 - bowel_accuracy: 0.6005 - extra_accuracy: 0.7275 - liver_accuracy: 0.8497 - kidney_accuracy: 0.7517 - spleen_accuracy: 0.6434 - val_loss: 3.3194 - val_bowel_loss: 0.7111 - val_extra_loss: 0.6622 - val_liver_loss: 0.5269 - val_kidney_loss: 0.5465 - val_spleen_loss: 0.8727 - val_bowel_accuracy: 0.5065 - val_extra_accuracy: 0.6404 - val_liver_accuracy: 0.8971 - val_kidney_accuracy: 0.8945 - val_spleen_accuracy: 0.7088 - lr: 1.0000e-05\n",
      "FOLD 1 RESULTS\n",
      "BEST Loss  : 3.319\n",
      "BEST Acc   : 0.729\n",
      "BEST Epoch : 2\n",
      "Bowel : 0.507\n",
      "Extravasation : 0.640\n",
      "Liver: 0.897\n",
      "Kidney: 0.895\n",
      "Spleen: 0.709\n",
      "\n",
      ">>>> Load pretrained from: /Users/makoto/.keras/models/efficientnetv2-b0-imagenet.h5\n",
      "Epoch 1/3\n",
      "318/318 [==============================] - ETA: 0s - loss: 4.7363 - bowel_loss: 0.6861 - extra_loss: 0.6781 - liver_loss: 1.1698 - kidney_loss: 1.0585 - spleen_loss: 1.1437 - bowel_accuracy: 0.5421 - extra_accuracy: 0.5721 - liver_accuracy: 0.2412 - kidney_accuracy: 0.4112 - spleen_accuracy: 0.2666\n",
      "Epoch 1: val_loss improved from inf to 4.75584, saving model to fold-2.h5\n"
     ]
    },
    {
     "name": "stderr",
     "output_type": "stream",
     "text": [
      "/Users/makoto/homebrew/Caskroom/miniforge/base/envs/rsna2023/lib/python3.10/site-packages/keras/src/engine/training.py:3000: UserWarning: You are saving your model as an HDF5 file via `model.save()`. This file format is considered legacy. We recommend using instead the native Keras format, e.g. `model.save('my_model.keras')`.\n",
      "  saving_api.save_model(\n"
     ]
    },
    {
     "name": "stdout",
     "output_type": "stream",
     "text": [
      "318/318 [==============================] - 398s 1s/step - loss: 4.7363 - bowel_loss: 0.6861 - extra_loss: 0.6781 - liver_loss: 1.1698 - kidney_loss: 1.0585 - spleen_loss: 1.1437 - bowel_accuracy: 0.5421 - extra_accuracy: 0.5721 - liver_accuracy: 0.2412 - kidney_accuracy: 0.4112 - spleen_accuracy: 0.2666 - val_loss: 4.7558 - val_bowel_loss: 0.7057 - val_extra_loss: 0.6664 - val_liver_loss: 1.1814 - val_kidney_loss: 1.0579 - val_spleen_loss: 1.1444 - val_bowel_accuracy: 0.4662 - val_extra_accuracy: 0.6144 - val_liver_accuracy: 0.2047 - val_kidney_accuracy: 0.4101 - val_spleen_accuracy: 0.2506 - lr: 1.0000e-07\n",
      "Epoch 2/3\n",
      "318/318 [==============================] - ETA: 0s - loss: 4.5769 - bowel_loss: 0.6850 - extra_loss: 0.6661 - liver_loss: 1.0973 - kidney_loss: 1.0130 - spleen_loss: 1.1156 - bowel_accuracy: 0.5498 - extra_accuracy: 0.6053 - liver_accuracy: 0.3757 - kidney_accuracy: 0.5069 - spleen_accuracy: 0.3171\n",
      "Epoch 2: val_loss improved from 4.75584 to 4.49217, saving model to fold-2.h5\n",
      "318/318 [==============================] - 242s 758ms/step - loss: 4.5769 - bowel_loss: 0.6850 - extra_loss: 0.6661 - liver_loss: 1.0973 - kidney_loss: 1.0130 - spleen_loss: 1.1156 - bowel_accuracy: 0.5498 - extra_accuracy: 0.6053 - liver_accuracy: 0.3757 - kidney_accuracy: 0.5069 - spleen_accuracy: 0.3171 - val_loss: 4.4922 - val_bowel_loss: 0.7002 - val_extra_loss: 0.6370 - val_liver_loss: 1.0528 - val_kidney_loss: 0.9982 - val_spleen_loss: 1.1040 - val_bowel_accuracy: 0.4932 - val_extra_accuracy: 0.6937 - val_liver_accuracy: 0.4683 - val_kidney_accuracy: 0.5310 - val_spleen_accuracy: 0.3621 - lr: 1.0000e-06\n",
      "Epoch 3/3\n",
      "318/318 [==============================] - ETA: 0s - loss: 3.4440 - bowel_loss: 0.6523 - extra_loss: 0.5896 - liver_loss: 0.6348 - kidney_loss: 0.6758 - spleen_loss: 0.8915 - bowel_accuracy: 0.6141 - extra_accuracy: 0.7043 - liver_accuracy: 0.8511 - kidney_accuracy: 0.8043 - spleen_accuracy: 0.6368\n",
      "Epoch 3: val_loss improved from 4.49217 to 3.59045, saving model to fold-2.h5\n",
      "318/318 [==============================] - 239s 750ms/step - loss: 3.4440 - bowel_loss: 0.6523 - extra_loss: 0.5896 - liver_loss: 0.6348 - kidney_loss: 0.6758 - spleen_loss: 0.8915 - bowel_accuracy: 0.6141 - extra_accuracy: 0.7043 - liver_accuracy: 0.8511 - kidney_accuracy: 0.8043 - spleen_accuracy: 0.6368 - val_loss: 3.5905 - val_bowel_loss: 0.7472 - val_extra_loss: 0.5495 - val_liver_loss: 0.5490 - val_kidney_loss: 0.7793 - val_spleen_loss: 0.9655 - val_bowel_accuracy: 0.4841 - val_extra_accuracy: 0.7652 - val_liver_accuracy: 0.8328 - val_kidney_accuracy: 0.7487 - val_spleen_accuracy: 0.6179 - lr: 1.0000e-05\n",
      "FOLD 2 RESULTS\n",
      "BEST Loss  : 3.590\n",
      "BEST Acc   : 0.690\n",
      "BEST Epoch : 2\n",
      "Bowel : 0.484\n",
      "Extravasation : 0.765\n",
      "Liver: 0.833\n",
      "Kidney: 0.749\n",
      "Spleen: 0.618\n",
      "\n",
      ">>>> Load pretrained from: /Users/makoto/.keras/models/efficientnetv2-b0-imagenet.h5\n",
      "Epoch 1/3\n",
      "269/269 [==============================] - ETA: 0s - loss: 4.6534 - bowel_loss: 0.7006 - extra_loss: 0.7241 - liver_loss: 1.0110 - kidney_loss: 1.0969 - spleen_loss: 1.1208 - bowel_accuracy: 0.4911 - extra_accuracy: 0.4235 - liver_accuracy: 0.5194 - kidney_accuracy: 0.3742 - spleen_accuracy: 0.3007\n",
      "Epoch 1: val_loss improved from inf to 4.61094, saving model to fold-3.h5\n"
     ]
    },
    {
     "name": "stderr",
     "output_type": "stream",
     "text": [
      "/Users/makoto/homebrew/Caskroom/miniforge/base/envs/rsna2023/lib/python3.10/site-packages/keras/src/engine/training.py:3000: UserWarning: You are saving your model as an HDF5 file via `model.save()`. This file format is considered legacy. We recommend using instead the native Keras format, e.g. `model.save('my_model.keras')`.\n",
      "  saving_api.save_model(\n"
     ]
    },
    {
     "name": "stdout",
     "output_type": "stream",
     "text": [
      "269/269 [==============================] - 379s 1s/step - loss: 4.6534 - bowel_loss: 0.7006 - extra_loss: 0.7241 - liver_loss: 1.0110 - kidney_loss: 1.0969 - spleen_loss: 1.1208 - bowel_accuracy: 0.4911 - extra_accuracy: 0.4235 - liver_accuracy: 0.5194 - kidney_accuracy: 0.3742 - spleen_accuracy: 0.3007 - val_loss: 4.6109 - val_bowel_loss: 0.6989 - val_extra_loss: 0.7200 - val_liver_loss: 0.9785 - val_kidney_loss: 1.1111 - val_spleen_loss: 1.1024 - val_bowel_accuracy: 0.5018 - val_extra_accuracy: 0.4482 - val_liver_accuracy: 0.5876 - val_kidney_accuracy: 0.3397 - val_spleen_accuracy: 0.3450 - lr: 1.0000e-07\n",
      "Epoch 2/3\n",
      "269/269 [==============================] - ETA: 0s - loss: 4.5335 - bowel_loss: 0.7002 - extra_loss: 0.7152 - liver_loss: 0.9664 - kidney_loss: 1.0569 - spleen_loss: 1.0949 - bowel_accuracy: 0.4947 - extra_accuracy: 0.4459 - liver_accuracy: 0.6117 - kidney_accuracy: 0.4654 - spleen_accuracy: 0.3480\n",
      "Epoch 2: val_loss improved from 4.61094 to 4.39528, saving model to fold-3.h5\n",
      "269/269 [==============================] - 225s 834ms/step - loss: 4.5335 - bowel_loss: 0.7002 - extra_loss: 0.7152 - liver_loss: 0.9664 - kidney_loss: 1.0569 - spleen_loss: 1.0949 - bowel_accuracy: 0.4947 - extra_accuracy: 0.4459 - liver_accuracy: 0.6117 - kidney_accuracy: 0.4654 - spleen_accuracy: 0.3480 - val_loss: 4.3953 - val_bowel_loss: 0.6997 - val_extra_loss: 0.6974 - val_liver_loss: 0.8956 - val_kidney_loss: 1.0320 - val_spleen_loss: 1.0706 - val_bowel_accuracy: 0.4950 - val_extra_accuracy: 0.5088 - val_liver_accuracy: 0.7494 - val_kidney_accuracy: 0.5188 - val_spleen_accuracy: 0.4004 - lr: 1.0000e-06\n",
      "Epoch 3/3\n",
      "269/269 [==============================] - ETA: 0s - loss: 3.5426 - bowel_loss: 0.6677 - extra_loss: 0.6319 - liver_loss: 0.6561 - kidney_loss: 0.7214 - spleen_loss: 0.8655 - bowel_accuracy: 0.5856 - extra_accuracy: 0.6450 - liver_accuracy: 0.8210 - kidney_accuracy: 0.7753 - spleen_accuracy: 0.6634\n",
      "Epoch 3: val_loss improved from 4.39528 to 3.32853, saving model to fold-3.h5\n",
      "269/269 [==============================] - 233s 866ms/step - loss: 3.5426 - bowel_loss: 0.6677 - extra_loss: 0.6319 - liver_loss: 0.6561 - kidney_loss: 0.7214 - spleen_loss: 0.8655 - bowel_accuracy: 0.5856 - extra_accuracy: 0.6450 - liver_accuracy: 0.8210 - kidney_accuracy: 0.7753 - spleen_accuracy: 0.6634 - val_loss: 3.3285 - val_bowel_loss: 0.6761 - val_extra_loss: 0.5672 - val_liver_loss: 0.3792 - val_kidney_loss: 0.7451 - val_spleen_loss: 0.9610 - val_bowel_accuracy: 0.5677 - val_extra_accuracy: 0.7596 - val_liver_accuracy: 0.9660 - val_kidney_accuracy: 0.7911 - val_spleen_accuracy: 0.5799 - lr: 1.0000e-05\n",
      "FOLD 3 RESULTS\n",
      "BEST Loss  : 3.329\n",
      "BEST Acc   : 0.733\n",
      "BEST Epoch : 2\n",
      "Bowel : 0.568\n",
      "Extravasation : 0.760\n",
      "Liver: 0.966\n",
      "Kidney: 0.791\n",
      "Spleen: 0.580\n",
      "\n"
     ]
    }
   ],
   "source": [
    "\n",
    "for fold in np.arange(CFG.folds):\n",
    "\n",
    "    train_df = df.query(\"fold!=@fold\")\n",
    "    valid_df = df.query(\"fold==@fold\")\n",
    "\n",
    "    train_paths  = train_df.image_path.values\n",
    "    train_labels = train_df[CFG.target_col].values.astype(np.float32)\n",
    "    valid_paths  = valid_df.image_path.values\n",
    "    valid_labels = valid_df[CFG.target_col].values.astype(np.float32)\n",
    "    test_paths   = test_df.image_path.values\n",
    "\n",
    "    K.clear_session()\n",
    "\n",
    "    model = build_model(CFG.model_name, dim=CFG.img_size)\n",
    "\n",
    "    train_ds = build_dataset(train_paths, train_labels)\n",
    "    valid_ds = build_dataset(valid_paths, valid_labels)\n",
    "\n",
    "    callbacks = []\n",
    "    ## save best model after each fold\n",
    "    save = tf.keras.callbacks.ModelCheckpoint('fold-%i.h5'%fold, monitor='val_loss', \n",
    "                                              verbose=1, save_best_only=True,\n",
    "                                              save_weights_only=False, mode='min', save_freq='epoch')\n",
    "    callbacks +=[save]\n",
    "    callbacks += [get_lr_callback(CFG.batch_size)]\n",
    "\n",
    "\n",
    "    history = model.fit(train_ds, validation_data = valid_ds, \n",
    "                        epochs=CFG.epochs, steps_per_epoch=None, \n",
    "                        callbacks = callbacks, verbose=1)\n",
    "                        \n",
    "    best_epoch = np.argmin(history.history['val_loss'])\n",
    "    best_loss = history.history['val_loss'][best_epoch]\n",
    "    best_acc_bowel = history.history['val_bowel_accuracy'][best_epoch]\n",
    "    best_acc_extra = history.history['val_extra_accuracy'][best_epoch]\n",
    "    best_acc_liver = history.history['val_liver_accuracy'][best_epoch]\n",
    "    best_acc_kidney = history.history['val_kidney_accuracy'][best_epoch]\n",
    "    best_acc_spleen = history.history['val_spleen_accuracy'][best_epoch]\n",
    "\n",
    "    best_acc = np.mean([best_acc_bowel, best_acc_extra, best_acc_liver, best_acc_kidney, best_acc_spleen])\n",
    "    print(f'FOLD {fold} RESULTS')\n",
    "    print(f'BEST Loss  : {best_loss:.3f}\\nBEST Acc   : {best_acc:.3f}\\nBEST Epoch : {best_epoch}')\n",
    "    print(f'Bowel : {best_acc_bowel:.3f}')\n",
    "    print(f'Extravasation : {best_acc_extra:.3f}')\n",
    "    print(f'Liver: {best_acc_liver:.3f}')\n",
    "    print(f'Kidney: {best_acc_kidney:.3f}')\n",
    "    print(f'Spleen: {best_acc_spleen:.3f}\\n')\n"
   ]
  },
  {
   "cell_type": "markdown",
   "metadata": {},
   "source": [
    "### Process prediction values"
   ]
  },
  {
   "cell_type": "code",
   "execution_count": 11,
   "metadata": {},
   "outputs": [],
   "source": [
    "def mc_proc(pred):\n",
    "    argmax = np.argmax(pred, axis=1).astype('uint8')\n",
    "    one_hot = tf.keras.utils.to_categorical(argmax, num_classes=3)\n",
    "    return one_hot.astype('uint8')\n",
    "\n",
    "def sc_proc(pred, thr=0.5):\n",
    "    proc_pred = (pred > thr).astype('uint8')\n",
    "    return proc_pred\n",
    "\n",
    "def post_proc(pred):\n",
    "    proc_pred = np.empty((pred.shape[0], 2*2 + 3*3), dtype='float32')\n",
    "\n",
    "    proc_pred[:, 0] = 1 - pred[:, 0] # bowel-healthy\n",
    "    proc_pred[:, 1] = pred[:, 0] # bowel-injured\n",
    "    proc_pred[:, 2] = 1 - pred[:, 1] # extra-healthy\n",
    "    proc_pred[:, 3] = pred[:, 1] # extra-injured\n",
    "    \n",
    "    proc_pred[:, 4:7] = pred[:, 2:5] # liver\n",
    "    proc_pred[:, 7:10] = pred[:, 5:8] # kidney\n",
    "    proc_pred[:, 10:13] = pred[:, 8:11] # spleen\n",
    "\n",
    "    return proc_pred"
   ]
  },
  {
   "cell_type": "markdown",
   "metadata": {},
   "source": [
    "### Model configs"
   ]
  },
  {
   "cell_type": "code",
   "execution_count": 13,
   "metadata": {},
   "outputs": [
    {
     "data": {
      "text/plain": [
       "[[[512, 512], ['./fold-0.h5', './fold-1.h5', './fold-2.h5', './fold-3.h5']]]"
      ]
     },
     "metadata": {},
     "output_type": "display_data"
    }
   ],
   "source": [
    "CKPT_DIRS = [\n",
    "    ([512, 512], './'),\n",
    "]\n",
    "\n",
    "MODEL_CONFIGS = []\n",
    "for img_size, ckpt_dir in  CKPT_DIRS:\n",
    "    paths = sorted(glob(os.path.join(ckpt_dir, '*h5')))[0:CFG.folds]\n",
    "    if len(paths)==0:\n",
    "        print('no model found for :',base_dir)\n",
    "    MODEL_CONFIGS.append([img_size, paths])\n",
    "display(MODEL_CONFIGS)"
   ]
  },
  {
   "cell_type": "markdown",
   "metadata": {},
   "source": [
    "### Infer"
   ]
  },
  {
   "cell_type": "code",
   "execution_count": 26,
   "metadata": {},
   "outputs": [
    {
     "name": "stderr",
     "output_type": "stream",
     "text": [
      "0it [00:00, ?it/s]"
     ]
    },
    {
     "name": "stdout",
     "output_type": "stream",
     "text": [
      "Patient ID: 48843\n",
      "1/1 [==============================] - 15s 15s/step\n",
      "1/1 [==============================] - 15s 15s/step\n",
      "1/1 [==============================] - 14s 14s/step\n",
      "1/1 [==============================] - 15s 15s/step\n"
     ]
    },
    {
     "name": "stderr",
     "output_type": "stream",
     "text": [
      "1it [01:05, 65.58s/it]"
     ]
    },
    {
     "name": "stdout",
     "output_type": "stream",
     "text": [
      "Patient ID: 50046\n",
      "1/1 [==============================] - 15s 15s/step\n",
      "1/1 [==============================] - 15s 15s/step\n",
      "1/1 [==============================] - 15s 15s/step\n",
      "1/1 [==============================] - 15s 15s/step\n"
     ]
    },
    {
     "name": "stderr",
     "output_type": "stream",
     "text": [
      "2it [02:11, 65.91s/it]"
     ]
    },
    {
     "name": "stdout",
     "output_type": "stream",
     "text": [
      "Patient ID: 63706\n",
      "1/1 [==============================] - 16s 16s/step\n",
      "1/1 [==============================] - 15s 15s/step\n",
      "1/1 [==============================] - 16s 16s/step\n",
      "1/1 [==============================] - 16s 16s/step\n"
     ]
    },
    {
     "name": "stderr",
     "output_type": "stream",
     "text": [
      "3it [03:21, 67.06s/it]\n"
     ]
    }
   ],
   "source": [
    "patient_ids = test_df['patient_id'].unique()\n",
    "\n",
    "patient_ids.sort()\n",
    "\n",
    "patient_preds = np.zeros(shape=(len(patient_ids), 2*2 + 3*3), dtype='float32')\n",
    "\n",
    "preds = np.zeros(shape=(1, 11), dtype=np.float32)\n",
    "\n",
    "for pidx, patient_id in tqdm(enumerate(patient_ids)):\n",
    "\n",
    "    patient_df = test_df[test_df['patient_id'] != patient_id]\n",
    "\n",
    "    model_preds = np.zeros(shape=(1, 11), dtype=np.float32)\n",
    "\n",
    "    print(f'Patient ID: {patient_id}')\n",
    "\n",
    "    for midx, (img_size, fold_paths) in enumerate(MODEL_CONFIGS):\n",
    "\n",
    "        patient_paths = patient_df.image_path.tolist()\n",
    "\n",
    "        min_batchsize = len(patient_paths)\n",
    "        CFG.batch_size = min(min_batchsize, CFG.batch_size)\n",
    "\n",
    "        dtest = build_dataset(patient_paths, batch_size=CFG.batch_size, repeat=False, \n",
    "                             shuffle=False, augment=False, cache=False,\n",
    "                             decode_fn=build_decoder(with_labels=False, target_size=CFG.img_size),)\n",
    "        \n",
    "        for fold_path in fold_paths:\n",
    "            \n",
    "            model = tf.keras.models.load_model(fold_path, compile=False)\n",
    "             \n",
    "            pred = model.predict(dtest, verbose=1)\n",
    "            pred = np.concatenate(pred, axis=-1).astype('float32')\n",
    "            pred = pred[:len(patient_paths), :]\n",
    "            pred = np.mean(pred.reshape(1, len(patient_paths), 11), axis=0)\n",
    "            pred = np.max(pred, axis=0) # taking max prediction of all ct scans for a patient\n",
    "\n",
    "            model_preds += pred / (len(fold_paths)*len(MODEL_CONFIGS))\n",
    "                                   \n",
    "            del model, pred; gc.collect()\n",
    "        \n",
    "        del dtest, patient_paths; gc.collect()\n",
    "\n",
    "        patient_preds[pidx, :] += post_proc(model_preds)[0]\n",
    "\n",
    "    del model_preds; gc.collect()\n"
   ]
  },
  {
   "cell_type": "code",
   "execution_count": 27,
   "metadata": {},
   "outputs": [
    {
     "data": {
      "text/plain": [
       "array([[0.40062475, 0.59937525, 0.22364593, 0.7763541 , 0.9151776 ,\n",
       "        0.15811184, 0.13074802, 0.82899284, 0.23013932, 0.15492648,\n",
       "        0.665516  , 0.21227756, 0.29290068],\n",
       "       [0.37804663, 0.62195337, 0.27994287, 0.72005713, 0.812729  ,\n",
       "        0.15811184, 0.13626885, 0.64639366, 0.2462556 , 0.16300628,\n",
       "        0.5986967 , 0.23405993, 0.29851973],\n",
       "       [0.3460881 , 0.6539119 , 0.21036804, 0.78963196, 0.9151776 ,\n",
       "        0.07496762, 0.11230343, 0.82899284, 0.23245439, 0.13489307,\n",
       "        0.665516  , 0.20801646, 0.2221129 ]], dtype=float32)"
      ]
     },
     "execution_count": 27,
     "metadata": {},
     "output_type": "execute_result"
    }
   ],
   "source": [
    "patient_preds"
   ]
  },
  {
   "cell_type": "code",
   "execution_count": null,
   "metadata": {},
   "outputs": [
    {
     "data": {
      "text/html": [
       "<div>\n",
       "<style scoped>\n",
       "    .dataframe tbody tr th:only-of-type {\n",
       "        vertical-align: middle;\n",
       "    }\n",
       "\n",
       "    .dataframe tbody tr th {\n",
       "        vertical-align: top;\n",
       "    }\n",
       "\n",
       "    .dataframe thead th {\n",
       "        text-align: right;\n",
       "    }\n",
       "</style>\n",
       "<table border=\"1\" class=\"dataframe\">\n",
       "  <thead>\n",
       "    <tr style=\"text-align: right;\">\n",
       "      <th></th>\n",
       "      <th>image_path</th>\n",
       "      <th>patient_id</th>\n",
       "      <th>series_id</th>\n",
       "      <th>instance_number</th>\n",
       "    </tr>\n",
       "  </thead>\n",
       "  <tbody>\n",
       "    <tr>\n",
       "      <th>0</th>\n",
       "      <td>./Dataset/test_images/50046/24574/30.png</td>\n",
       "      <td>50046</td>\n",
       "      <td>24574</td>\n",
       "      <td>30</td>\n",
       "    </tr>\n",
       "    <tr>\n",
       "      <th>1</th>\n",
       "      <td>./Dataset/test_images/63706/39279/30.png</td>\n",
       "      <td>63706</td>\n",
       "      <td>39279</td>\n",
       "      <td>30</td>\n",
       "    </tr>\n",
       "    <tr>\n",
       "      <th>2</th>\n",
       "      <td>./Dataset/test_images/48843/62825/30.png</td>\n",
       "      <td>48843</td>\n",
       "      <td>62825</td>\n",
       "      <td>30</td>\n",
       "    </tr>\n",
       "  </tbody>\n",
       "</table>\n",
       "</div>"
      ],
      "text/plain": [
       "                                 image_path  patient_id  series_id  \\\n",
       "0  ./Dataset/test_images/50046/24574/30.png       50046      24574   \n",
       "1  ./Dataset/test_images/63706/39279/30.png       63706      39279   \n",
       "2  ./Dataset/test_images/48843/62825/30.png       48843      62825   \n",
       "\n",
       "   instance_number  \n",
       "0               30  \n",
       "1               30  \n",
       "2               30  "
      ]
     },
     "execution_count": 51,
     "metadata": {},
     "output_type": "execute_result"
    }
   ],
   "source": [
    "test_df"
   ]
  },
  {
   "cell_type": "markdown",
   "metadata": {},
   "source": [
    "### Create submission"
   ]
  },
  {
   "cell_type": "code",
   "execution_count": 28,
   "metadata": {},
   "outputs": [],
   "source": [
    "pred_df = pd.DataFrame({'patient_id':patient_ids,})\n",
    "\n",
    "sub_df = pd.read_csv('./sample_submission.csv')\n",
    "pred_df = pred_df.merge(sub_df, on='patient_id', how='right')\n",
    "\n",
    "for i, row in enumerate(patient_preds):\n",
    "    pred_df.loc[i, 'bowel_healthy'] = row[0]\n",
    "    pred_df.loc[i, 'bowel_injury'] = row[1]\n",
    "    pred_df.loc[i, 'extravasation_healthy'] = row[2]\n",
    "    pred_df.loc[i, 'extravasation_injury'] = row[3]\n",
    "    pred_df.loc[i, 'kidney_healthy'] = row[4]\n",
    "    pred_df.loc[i, 'kidney_low'] = row[5]\n",
    "    pred_df.loc[i, 'kidney_high'] = row[6]\n",
    "    pred_df.loc[i, 'liver_healthy'] = row[7]\n",
    "    pred_df.loc[i, 'liver_low'] = row[8]\n",
    "    pred_df.loc[i, 'liver_high'] = row[9]\n",
    "    pred_df.loc[i, 'spleen_healthy'] = row[10]\n",
    "    pred_df.loc[i, 'spleen_low'] = row[11]\n",
    "    pred_df.loc[i, 'spleen_high'] = row[12]\n",
    "\n",
    "pred_df.to_csv('submission01.csv', index=False)\n"
   ]
  }
 ],
 "metadata": {
  "kernelspec": {
   "display_name": "rsna2023",
   "language": "python",
   "name": "python3"
  },
  "language_info": {
   "codemirror_mode": {
    "name": "ipython",
    "version": 3
   },
   "file_extension": ".py",
   "mimetype": "text/x-python",
   "name": "python",
   "nbconvert_exporter": "python",
   "pygments_lexer": "ipython3",
   "version": "3.10.12"
  },
  "orig_nbformat": 4
 },
 "nbformat": 4,
 "nbformat_minor": 2
}
